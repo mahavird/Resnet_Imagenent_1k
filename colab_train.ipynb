{
  "cells": [
    {
      "cell_type": "markdown",
      "metadata": {},
      "source": [
        "# ResNet-50 ImageNet Training on Colab\n",
        "\n",
        "This notebook runs the ResNet-50 training on Google Colab with your ImageNet subset data.\n"
      ]
    },
    {
      "cell_type": "markdown",
      "metadata": {},
      "source": [
        "## 1. Install Dependencies\n"
      ]
    },
    {
      "cell_type": "code",
      "execution_count": null,
      "metadata": {},
      "outputs": [],
      "source": [
        "# Install required packages\n",
        "%pip install torch torchvision tqdm tomli\n",
        "\n",
        "# Verify installation\n",
        "import torch\n",
        "print(f\"PyTorch version: {torch.__version__}\")\n",
        "print(f\"CUDA available: {torch.cuda.is_available()}\")\n",
        "if torch.cuda.is_available():\n",
        "    print(f\"GPU: {torch.cuda.get_device_name(0)}\")\n",
        "    print(f\"GPU Memory: {torch.cuda.get_device_properties(0).total_memory / 1e9:.1f} GB\")\n"
      ]
    },
    {
      "cell_type": "markdown",
      "metadata": {},
      "source": [
        "## 2. Clone Repository\n"
      ]
    },
    {
      "cell_type": "code",
      "execution_count": null,
      "metadata": {},
      "outputs": [],
      "source": [
        "# Clone your repository from GitHub\n",
        "# Replace 'yourusername' and 'Resnet_Imagenent_1k' with your actual GitHub details\n",
        "!git clone https://github.com/yourusername/Resnet_Imagenent_1k.git\n",
        "\n",
        "# Navigate to the project directory\n",
        "%cd Resnet_Imagenent_1k\n",
        "\n",
        "print(\"Repository cloned successfully!\")\n",
        "print(\"Project files are now available in the current directory.\")\n"
      ]
    },
    {
      "cell_type": "markdown",
      "metadata": {},
      "source": [
        "## 3. Setup Data Directories\n"
      ]
    },
    {
      "cell_type": "code",
      "execution_count": null,
      "metadata": {},
      "outputs": [],
      "source": [
        "# Create data directories\n",
        "!mkdir -p /content/data/imagenet_subtrain\n",
        "!mkdir -p /content/data/imagenet_validation\n",
        "\n",
        "print(\"Directories created successfully!\")\n",
        "print(\"Please upload your data to:\")\n",
        "print(\"- /content/data/imagenet_subtrain/ (training data)\")\n",
        "print(\"- /content/data/imagenet_validation/ (validation data)\")\n"
      ]
    },
    {
      "cell_type": "markdown",
      "metadata": {},
      "source": [
        "## 4. Test Setup\n"
      ]
    },
    {
      "cell_type": "code",
      "execution_count": null,
      "metadata": {},
      "outputs": [],
      "source": [
        "# Test the setup\n",
        "!python test_setup.py\n"
      ]
    },
    {
      "cell_type": "markdown",
      "metadata": {},
      "source": [
        "## 5. Start Training\n"
      ]
    },
    {
      "cell_type": "code",
      "execution_count": null,
      "metadata": {},
      "outputs": [],
      "source": [
        "# Start training\n",
        "!python src/train.py\n"
      ]
    }
  ],
  "metadata": {
    "language_info": {
      "name": "python"
    }
  },
  "nbformat": 4,
  "nbformat_minor": 2
}
